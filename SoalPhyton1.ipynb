{
  "cells": [
    {
      "cell_type": "markdown",
      "metadata": {
        "id": "view-in-github",
        "colab_type": "text"
      },
      "source": [
        "<a href=\"https://colab.research.google.com/github/rafialif11/PPLG-KEV/blob/main/SoalPhyton1.ipynb\" target=\"_parent\"><img src=\"https://colab.research.google.com/assets/colab-badge.svg\" alt=\"Open In Colab\"/></a>"
      ]
    },
    {
      "cell_type": "code",
      "execution_count": null,
      "metadata": {
        "id": "3YOzGqGkMu67"
      },
      "outputs": [],
      "source": [
        "1. Buatlah sebuah program untuk menentukan bilangan positif,bilangan negatif,dan bilangan nol"
      ]
    },
    {
      "cell_type": "code",
      "execution_count": 3,
      "metadata": {
        "colab": {
          "base_uri": "https://localhost:8080/"
        },
        "id": "tO8vvp-eNqa7",
        "outputId": "14b57939-1b41-4ed8-a672-5ac423e4082c"
      },
      "outputs": [
        {
          "output_type": "stream",
          "name": "stdout",
          "text": [
            "angka adalah lebih dari 10\n"
          ]
        }
      ],
      "source": [
        "#bilangan positif\n",
        "angka = 5\n",
        "if angka == 10:\n",
        "    print(\"angka adalah 10\")\n",
        "else:\n",
        "    print(\"angka adalah lebih dari 10\")"
      ]
    },
    {
      "cell_type": "code",
      "execution_count": null,
      "metadata": {
        "colab": {
          "base_uri": "https://localhost:8080/"
        },
        "id": "635CKjg6Shca",
        "outputId": "67c1114e-e0c6-41ba-d40f-f320c9ef7bc3"
      },
      "outputs": [
        {
          "name": "stdout",
          "output_type": "stream",
          "text": [
            "angka adalah kurang dari 10\n"
          ]
        }
      ],
      "source": [
        "#bilangan negatif\n",
        "angka = 5\n",
        "if angka == 10:\n",
        "    print(\"angka adalah 10\")\n",
        "elif angka < 10:\n",
        "    print(\"angka adalah kurang dari 10\")"
      ]
    },
    {
      "cell_type": "code",
      "execution_count": null,
      "metadata": {
        "colab": {
          "base_uri": "https://localhost:8080/"
        },
        "id": "XUuJ4rtfTLtk",
        "outputId": "aff3bfbf-86b7-43ae-d136-2deb491e5812"
      },
      "outputs": [
        {
          "name": "stdout",
          "output_type": "stream",
          "text": [
            "angka adalah 0\n"
          ]
        }
      ],
      "source": [
        "#bilangan nol\n",
        "angka = 0\n",
        "if angka == 0:\n",
        "    print(\"angka adalah 0\")"
      ]
    },
    {
      "cell_type": "markdown",
      "source": [
        "**penjelasan bilangan positif**\n",
        "\n",
        "variabel angka dengan nilai 5. Kemudian, menggunakan kondisi if untuk memeriksa apakah angka sama dengan 10. Jika angka sama dengan 10, maka akan muncul \"angka adalah 10\", jika angka tidak sama dengan 10, maka akan muncul \"angka adalah lebih dari 10\" menggunakan kondisi else.\n",
        "\n",
        "**penjelasan bilangan negatif**\n",
        "\n",
        "variabel angka dengan nilai 5. Kemudian, menggunakan kondisi if untuk memeriksa apakah angka sama dengan 10. Jika angka sama dengan 10, maka akan muncul \"angka adalah 10\", jika angka tidak sama dengan 10, maka akan muncul \"angka adalah kurang dari 10\" menggunakan kondisi elif.\n",
        "\n",
        "**penjelasan bilangan nol**\n",
        "\n",
        "variabel angka dengan nilai 0. Kemudian, menggunakan kondisi if untuk memeriksa apakah angka sama dengan 0. Jika angka sama dengan 0, maka akan muncul \"angka adalah 0\"."
      ],
      "metadata": {
        "id": "xqaKlf2uYnKP"
      }
    }
  ],
  "metadata": {
    "colab": {
      "provenance": [],
      "authorship_tag": "ABX9TyMnpJliXeuAgwl8DWi2YAhJ",
      "include_colab_link": true
    },
    "kernelspec": {
      "display_name": "Python 3",
      "name": "python3"
    },
    "language_info": {
      "name": "python"
    }
  },
  "nbformat": 4,
  "nbformat_minor": 0
}